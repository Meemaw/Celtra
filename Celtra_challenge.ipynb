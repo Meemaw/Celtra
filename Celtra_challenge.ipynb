{
 "cells": [
  {
   "cell_type": "markdown",
   "metadata": {},
   "source": [
    "First step in my exploration is to read data, print some quick summary statistics and draw some graphs. To do this, I'll use Pandas library which provides data structures and tools that make manipulating data very simple and effective."
   ]
  },
  {
   "cell_type": "markdown",
   "metadata": {},
   "source": [
    "#### Features list"
   ]
  },
  {
   "cell_type": "code",
   "execution_count": 1,
   "metadata": {
    "collapsed": true
   },
   "outputs": [],
   "source": [
    "allFeatures  = ['ADLOADINGTIME', 'ACCOUNTID', 'CAMPAIGNID', 'CREATIVEID', 'PLACEMENTID',\n",
    "       'TIMESTAMP', 'PLATFORM', 'PLATFORMVERSION', 'EXTERNALADSERVER',\n",
    "       'EXTERNALCREATIVEID', 'EXTERNALPLACEMENTID', 'EXTERNALSITEID',\n",
    "       'EXTERNALSUPPLIERID', 'INTENDEDDEVICETYPE', 'ACTUALDEVICETYPE', 'SDK',\n",
    "       'HOSTWINDOWHEIGHT', 'HOSTWINDOWWIDTH', 'TOPMOSTREACHABLEWINDOWHEIGHT',\n",
    "       'TOPMOSTREACHABLEWINDOWWIDTH', 'DEVICEORIENTATION', 'NETWORKTYPE',\n",
    "       'CDNNAME', 'CREATIVETYPE', 'GEOIP_LNG', 'GEOIP_LAT', 'GEOIP_TIMEZONE',\n",
    "       'GEOIP_COUNTRY', 'GEOIP_REGION', 'GEOIP_CITY', 'GEOIP_AREACODE',\n",
    "       'GEOIP_METROCODE', 'GEOIP_DMACODE', 'UA_HARDWARETYPE', 'UA_DEVICETYPE',\n",
    "       'UA_MOBILEDEVICE', 'UA_PLATFORM', 'UA_PLATFORMVERSION', 'UA_VENDOR',\n",
    "       'UA_MODEL', 'UA_OS', 'UA_OSVERSION', 'UA_BROWSER', 'UA_BROWSERVERSION',\n",
    "       'UA_BROWSERRENDERINGENGINE', 'FILESJSON', 'ERRORSJSON']\n",
    "\n",
    "## Features I dont consider, since they are too customer specific.\n",
    "dontConsider = ['ACCOUNTID', 'CAMPAIGNID', 'CREATIVEID', 'PLACEMENTID', 'EXTERNALADSERVER',\n",
    "               'EXTERNALCREATIVEID', 'EXTERNALPLACEMENTID', 'EXTERNALSITEID', 'EXTERNALSUPPLIERID']\n",
    "\n",
    "## Accumulating list of potentionally good features and discarded features\n",
    "learnFeatures = []\n",
    "discardedFeatures = []\n"
   ]
  },
  {
   "cell_type": "markdown",
   "metadata": {},
   "source": [
    "#### Helper method for manipulating dataframes"
   ]
  },
  {
   "cell_type": "code",
   "execution_count": 2,
   "metadata": {
    "collapsed": true
   },
   "outputs": [],
   "source": [
    "import pandas as pd\n",
    "\n",
    "## pandas crashed while reading more than one million lines in one batch, so I split \n",
    "## the data in two files and read them seperately then append them into one DataFrame\n",
    "def getFullDataFrame(features):\n",
    "    df1 = pd.read_csv(\"largeFirst.tsv\", delimiter=\"\\t\", low_memory=False, usecols=features)\n",
    "    df2 = pd.read_csv(\"largeSecond.tsv\", delimiter=\"\\t\", low_memory=False, usecols=features)\n",
    "    df = df1.append(df2, ignore_index = True)\n",
    "    return df\n",
    "\n",
    "## Returns new dataframe with features selected\n",
    "def pickColumnsDataFrame(df, features):\n",
    "    df2 = df.copy()\n",
    "    return df2[features]"
   ]
  },
  {
   "cell_type": "markdown",
   "metadata": {},
   "source": [
    "#### Read data into dataframe"
   ]
  },
  {
   "cell_type": "code",
   "execution_count": 3,
   "metadata": {
    "collapsed": true
   },
   "outputs": [],
   "source": [
    "potentionalFeatures = list(set(allFeatures) - set(dontConsider))\n",
    "df = getFullDataFrame(potentionalFeatures)"
   ]
  },
  {
   "cell_type": "markdown",
   "metadata": {},
   "source": [
    "#### Plotting our target variable"
   ]
  },
  {
   "cell_type": "code",
   "execution_count": 4,
   "metadata": {
    "collapsed": false
   },
   "outputs": [
    {
     "data": {
      "text/plain": [
       "<matplotlib.axes._subplots.AxesSubplot at 0x11743f9b0>"
      ]
     },
     "execution_count": 4,
     "metadata": {},
     "output_type": "execute_result"
    },
    {
     "data": {
      "image/png": "[encoded data removed]",
      "text/plain": [
       "<matplotlib.figure.Figure at 0x110e681d0>"
      ]
     },
     "metadata": {},
     "output_type": "display_data"
    }
   ],
   "source": [
    "%matplotlib inline\n",
    "\n",
    "df[(df['ADLOADINGTIME'] > 0) & (df[\"ADLOADINGTIME\"] <= 10)]['ADLOADINGTIME'].hist(figsize=(15,3))"
   ]
  },
  {
   "cell_type": "code",
   "execution_count": 5,
   "metadata": {
    "collapsed": false
   },
   "outputs": [
    {
     "data": {
      "text/plain": [
       "<matplotlib.axes._subplots.AxesSubplot at 0x117978208>"
      ]
     },
     "execution_count": 5,
     "metadata": {},
     "output_type": "execute_result"
    },
    {
     "data": {
      "image/png": "[encoded data removed]",
      "text/plain": [
       "<matplotlib.figure.Figure at 0x117af6e48>"
      ]
     },
     "metadata": {},
     "output_type": "display_data"
    }
   ],
   "source": [
    "df[(df['ADLOADINGTIME'] > 10) & (df[\"ADLOADINGTIME\"] <= 100)]['ADLOADINGTIME'].hist(figsize=(15,3))"
   ]
  },
  {
   "cell_type": "markdown",
   "metadata": {},
   "source": [
    "We see, that almost all rows have 'ADLOADINGTIME' smaller than 50. Lets now calculate how many outliers are present  in the data"
   ]
  },
  {
   "cell_type": "code",
   "execution_count": 6,
   "metadata": {
    "collapsed": false
   },
   "outputs": [
    {
     "name": "stdout",
     "output_type": "stream",
     "text": [
      "Number of rows with ADLOADINGTIME >= 10 is 356074   ---> 14.53% of rows included\n",
      "Number of rows with ADLOADINGTIME >= 30 is 71395   ---> 2.91% of rows included\n",
      "Number of rows with ADLOADINGTIME >= 50 is 43771   ---> 1.79% of rows included\n",
      "Number of rows with ADLOADINGTIME >= 100 is 24037   ---> 0.98% of rows included\n",
      "Number of rows with ADLOADINGTIME >= 1000 is 1575   ---> 0.06% of rows included\n"
     ]
    }
   ],
   "source": [
    "numRows = 2450000\n",
    "for i in [10, 30, 50, 100, 1000]:\n",
    "    x = len(df[df['ADLOADINGTIME'] >= i])\n",
    "    y = str(round((x/numRows*100),2)) + \"%\"\n",
    "    print(\"Number of rows with ADLOADINGTIME >= %s is %s   ---> %s of rows included\" % (i, x, y))"
   ]
  },
  {
   "cell_type": "markdown",
   "metadata": {},
   "source": [
    "We can see that number of rows quickly falls as we are increasing the ADLOADINGTIME. There are less than 3% of rows with ADLOADINGTIME >= 30."
   ]
  },
  {
   "cell_type": "markdown",
   "metadata": {},
   "source": [
    "#### Extract some potentional features for boxploting"
   ]
  },
  {
   "cell_type": "code",
   "execution_count": 7,
   "metadata": {
    "collapsed": false
   },
   "outputs": [
    {
     "name": "stdout",
     "output_type": "stream",
     "text": [
      "Extracting columns with less than 20 and more than 1 features...\n",
      "CREATIVETYPE 7\n",
      "NETWORKTYPE 3\n",
      "UA_BROWSERRENDERINGENGINE 10\n",
      "ERRORSJSON 17\n",
      "UA_DEVICETYPE 4\n",
      "INTENDEDDEVICETYPE 3\n",
      "ACTUALDEVICETYPE 4\n",
      "UA_HARDWARETYPE 12\n",
      "SDK 5\n",
      "UA_MOBILEDEVICE 2\n",
      "UA_OS 9\n",
      "CDNNAME 3\n",
      "DEVICEORIENTATION 5\n",
      "PLATFORM 8\n",
      "UA_PLATFORM 7\n"
     ]
    }
   ],
   "source": [
    "def getPotentionalColumns(df, columns, unique_bound, lower):\n",
    "    candidates = []\n",
    "    print(\"Extracting columns with less than \" + str(unique_bound)+ \" and more than \" + str(lower) + \" features...\")\n",
    "    df1 = pickColumnsDataFrame(df, columns)\n",
    "    \n",
    "    for column in df1:\n",
    "        num_uniques = len(df[column].unique())\n",
    "        if num_uniques < unique_bound and num_uniques > lower:\n",
    "            print (column, num_uniques)\n",
    "            candidates.append(column)\n",
    "            \n",
    "    return candidates\n",
    "\n",
    "candidates = getPotentionalColumns(df, potentionalFeatures, 20, 1)"
   ]
  },
  {
   "cell_type": "markdown",
   "metadata": {},
   "source": [
    "#### Plotting some intereseting features"
   ]
  },
  {
   "cell_type": "markdown",
   "metadata": {},
   "source": [
    "While plotting, I had to remove outliers in 'ADLOADINGTIME' in order to get readable plot. The cutting line for outliers was set at 30, which means I excluded around 3% of data."
   ]
  },
  {
   "cell_type": "code",
   "execution_count": 8,
   "metadata": {
    "collapsed": true
   },
   "outputs": [],
   "source": [
    "def prepareForPlot(df, applyLambda):\n",
    "    df2 = df.copy()\n",
    "    feature = df2.columns[1]\n",
    "    if applyLambda == True:\n",
    "        df2['ADLOADINGTIME'] = df2['ADLOADINGTIME'].apply(lambda x: 30 if x > 30 else x)\n",
    "    for value in df2[feature].unique():\n",
    "        df2[value] = df2[df2[feature] == value]['ADLOADINGTIME']\n",
    "    df2 = df2.drop('ADLOADINGTIME', 1)\n",
    "    df2 = df2.drop(feature, 1)\n",
    "    return df2\n",
    "\n",
    "def summarize(df):\n",
    "    feature = df.columns[1]\n",
    "    print(df.groupby(feature).mean())\n",
    "    df = prepareForPlot(df, True)\n",
    "    df.plot.box(figsize=(17,6))\n",
    "    \n",
    "    \n",
    "def present(column):\n",
    "    df1 = pickColumnsDataFrame(df, ['ADLOADINGTIME', column])\n",
    "    summarize(df1)"
   ]
  },
  {
   "cell_type": "code",
   "execution_count": 9,
   "metadata": {
    "collapsed": false
   },
   "outputs": [
    {
     "name": "stdout",
     "output_type": "stream",
     "text": [
      "                 ADLOADINGTIME\n",
      "PLATFORM                      \n",
      "Android               7.978140\n",
      "BlackBerry            8.894497\n",
      "DesktopPlatform       6.272564\n",
      "IOS                  14.951107\n",
      "WAPBrowser            1.562260\n",
      "WebOS                65.821000\n",
      "WindowsPhone          8.740721\n",
      "null                  3.687539\n"
     ]
    },
    {
     "data": {
      "image/png": "[encoded data removed]",
      "text/plain": [
       "<matplotlib.figure.Figure at 0x1148a96a0>"
      ]
     },
     "metadata": {},
     "output_type": "display_data"
    }
   ],
   "source": [
    "present('PLATFORM')\n",
    "learnFeatures.append('PLATFORM')"
   ]
  },
  {
   "cell_type": "markdown",
   "metadata": {},
   "source": [
    "We can see that PLATFORM affects ADLOADINGTIME. WAPBrowser on one side with best results (low mean, low variance) and BlackBerry on other side with worst (big mean, big variance). Because of differences in distribution, PLATFORM should definetly be added to learningFeatures. Outlier in this plot is WebOS, which has no values in our range from 0-30. However as seen below, WebOS is present in only one row and is therefore pretty insignificant. "
   ]
  },
  {
   "cell_type": "code",
   "execution_count": 10,
   "metadata": {
    "collapsed": false
   },
   "outputs": [
    {
     "data": {
      "text/html": [
       "<div>\n",
       "<table border=\"1\" class=\"dataframe\">\n",
       "  <thead>\n",
       "    <tr style=\"text-align: right;\">\n",
       "      <th></th>\n",
       "      <th>ADLOADINGTIME</th>\n",
       "      <th>TIMESTAMP</th>\n",
       "      <th>PLATFORM</th>\n",
       "      <th>PLATFORMVERSION</th>\n",
       "      <th>INTENDEDDEVICETYPE</th>\n",
       "      <th>ACTUALDEVICETYPE</th>\n",
       "      <th>SDK</th>\n",
       "      <th>HOSTWINDOWHEIGHT</th>\n",
       "      <th>HOSTWINDOWWIDTH</th>\n",
       "      <th>TOPMOSTREACHABLEWINDOWHEIGHT</th>\n",
       "      <th>...</th>\n",
       "      <th>UA_PLATFORMVERSION</th>\n",
       "      <th>UA_VENDOR</th>\n",
       "      <th>UA_MODEL</th>\n",
       "      <th>UA_OS</th>\n",
       "      <th>UA_OSVERSION</th>\n",
       "      <th>UA_BROWSER</th>\n",
       "      <th>UA_BROWSERVERSION</th>\n",
       "      <th>UA_BROWSERRENDERINGENGINE</th>\n",
       "      <th>FILESJSON</th>\n",
       "      <th>ERRORSJSON</th>\n",
       "    </tr>\n",
       "  </thead>\n",
       "  <tbody>\n",
       "    <tr>\n",
       "      <th>26411</th>\n",
       "      <td>65.821</td>\n",
       "      <td>1459538818</td>\n",
       "      <td>WebOS</td>\n",
       "      <td>3.0.5</td>\n",
       "      <td>Tablet</td>\n",
       "      <td>Tablet</td>\n",
       "      <td>MobileWeb</td>\n",
       "      <td>0</td>\n",
       "      <td>0</td>\n",
       "      <td>942</td>\n",
       "      <td>...</td>\n",
       "      <td>3.0.5</td>\n",
       "      <td>HP</td>\n",
       "      <td>TouchPad</td>\n",
       "      <td>WebOS</td>\n",
       "      <td>3.0.5</td>\n",
       "      <td>webOS Browser</td>\n",
       "      <td>234.83</td>\n",
       "      <td>WebKit</td>\n",
       "      <td>[{\"type\":\"image\",\"size\":13989},{\"type\":\"image\"...</td>\n",
       "      <td>[]</td>\n",
       "    </tr>\n",
       "  </tbody>\n",
       "</table>\n",
       "<p>1 rows × 38 columns</p>\n",
       "</div>"
      ],
      "text/plain": [
       "       ADLOADINGTIME   TIMESTAMP PLATFORM PLATFORMVERSION INTENDEDDEVICETYPE  \\\n",
       "26411         65.821  1459538818    WebOS           3.0.5             Tablet   \n",
       "\n",
       "      ACTUALDEVICETYPE        SDK HOSTWINDOWHEIGHT HOSTWINDOWWIDTH  \\\n",
       "26411           Tablet  MobileWeb                0               0   \n",
       "\n",
       "      TOPMOSTREACHABLEWINDOWHEIGHT    ...     UA_PLATFORMVERSION UA_VENDOR  \\\n",
       "26411                          942    ...                  3.0.5        HP   \n",
       "\n",
       "       UA_MODEL  UA_OS UA_OSVERSION     UA_BROWSER UA_BROWSERVERSION  \\\n",
       "26411  TouchPad  WebOS        3.0.5  webOS Browser            234.83   \n",
       "\n",
       "      UA_BROWSERRENDERINGENGINE  \\\n",
       "26411                    WebKit   \n",
       "\n",
       "                                               FILESJSON ERRORSJSON  \n",
       "26411  [{\"type\":\"image\",\"size\":13989},{\"type\":\"image\"...         []  \n",
       "\n",
       "[1 rows x 38 columns]"
      ]
     },
     "execution_count": 10,
     "metadata": {},
     "output_type": "execute_result"
    }
   ],
   "source": [
    "df[df['PLATFORM'] == 'WebOS']"
   ]
  },
  {
   "cell_type": "code",
   "execution_count": 11,
   "metadata": {
    "collapsed": false
   },
   "outputs": [
    {
     "name": "stdout",
     "output_type": "stream",
     "text": [
      "             ADLOADINGTIME\n",
      "NETWORKTYPE               \n",
      "mobile            3.821632\n",
      "null             11.493369\n",
      "wifi              3.563467\n"
     ]
    },
    {
     "data": {
      "image/png": "[encoded data removed]",
      "text/plain": [
       "<matplotlib.figure.Figure at 0x1148a9320>"
      ]
     },
     "metadata": {},
     "output_type": "display_data"
    }
   ],
   "source": [
    "present('NETWORKTYPE')\n",
    "learnFeatures.append('NETWORKTYPE')\n",
    "discardedFeatures.append('UA_PLATFORM')"
   ]
  },
  {
   "cell_type": "markdown",
   "metadata": {
    "collapsed": true
   },
   "source": [
    "Wifi and mobile have pretty stable ADLOADINGTIME with low mean and variance, while 'null' is pretty unstable. Our model can probably learn something from this feature"
   ]
  },
  {
   "cell_type": "code",
   "execution_count": 12,
   "metadata": {
    "collapsed": false,
    "scrolled": true
   },
   "outputs": [
    {
     "name": "stdout",
     "output_type": "stream",
     "text": [
      "                  ADLOADINGTIME\n",
      "ACTUALDEVICETYPE               \n",
      "Desktop                6.259990\n",
      "Phone                  8.453040\n",
      "Tablet                45.956643\n",
      "null                  10.934511\n"
     ]
    },
    {
     "data": {
      "image/png": "[encoded data removed]",
      "text/plain": [
       "<matplotlib.figure.Figure at 0x11541d908>"
      ]
     },
     "metadata": {},
     "output_type": "display_data"
    }
   ],
   "source": [
    "present('ACTUALDEVICETYPE')\n",
    "learnFeatures.append('ACTUALDEVICETYPE')\n",
    "discardedFeatures.append('INTENDEDDEVICETYPE')\n",
    "discardedFeatures.append('UA_DEVICETYPE')"
   ]
  },
  {
   "cell_type": "markdown",
   "metadata": {},
   "source": [
    "We can see that tablet's performance is pretty bad compared to Phone and Desktop. This is pretty obvious from the mean printed above. Since Tablet is in more than 200000 lines, this is clearly an important feature to keep. INTENDEDDEVICETYPE and UA_DEVICETYPE on other hand, yields pretty similar results thus can be ignored."
   ]
  },
  {
   "cell_type": "code",
   "execution_count": 13,
   "metadata": {
    "collapsed": false
   },
   "outputs": [
    {
     "name": "stdout",
     "output_type": "stream",
     "text": [
      "Number of rows with Tablet: 213074\n",
      "\n",
      "                    ADLOADINGTIME\n",
      "INTENDEDDEVICETYPE               \n",
      "Desktop                  6.820517\n",
      "Phone                    8.380754\n",
      "Tablet                  69.789365\n"
     ]
    }
   ],
   "source": [
    "df1 = pickColumnsDataFrame(df, ['ADLOADINGTIME', 'INTENDEDDEVICETYPE'])\n",
    "print(\"Number of rows with Tablet: \" + str(len(df[df['ACTUALDEVICETYPE'] == 'Tablet'])))\n",
    "print()\n",
    "print(df1.groupby('INTENDEDDEVICETYPE').mean())"
   ]
  },
  {
   "cell_type": "code",
   "execution_count": 14,
   "metadata": {
    "collapsed": false
   },
   "outputs": [
    {
     "name": "stdout",
     "output_type": "stream",
     "text": [
      "                           ADLOADINGTIME\n",
      "CREATIVETYPE                            \n",
      "Banner                          5.681240\n",
      "ExpandableBanner               13.244411\n",
      "InstaAdVideoInterscroller       4.745339\n",
      "InstaAdVideoInterstitial        5.874288\n",
      "Interscroller                   8.193597\n",
      "Interstitial                   20.479534\n",
      "Reveal                          4.566977\n"
     ]
    },
    {
     "data": {
      "image/png": "[encoded data removed]",
      "text/plain": [
       "<matplotlib.figure.Figure at 0x122768a20>"
      ]
     },
     "metadata": {},
     "output_type": "display_data"
    }
   ],
   "source": [
    "present('CREATIVETYPE')\n",
    "learnFeatures.append('CREATIVETYPE')"
   ]
  },
  {
   "cell_type": "markdown",
   "metadata": {},
   "source": [
    "#### Summary"
   ]
  },
  {
   "cell_type": "markdown",
   "metadata": {},
   "source": [
    "I have only plotted a few of features that I have found interesting. After doing more plotting and analysis, I have extracted features seen below. Some of them were pretty obvious, while I was a bit sceptical about others.\n",
    "For example DEVICEORIENTATION gave pretty equal results for all values except 'null'. In my opinion this can tell us something about device. For example device is old and dont have gyroscope, while others have it. These features are also not too expensive for one-hot I intend to do, since they have low number of unique values."
   ]
  },
  {
   "cell_type": "code",
   "execution_count": 15,
   "metadata": {
    "collapsed": false
   },
   "outputs": [
    {
     "name": "stdout",
     "output_type": "stream",
     "text": [
      "['PLATFORM', 'NETWORKTYPE', 'ACTUALDEVICETYPE', 'CREATIVETYPE', 'UA_OS', 'SDK', 'UA_MOBILEDEVICE', 'UA_BROWSERRENDERINGENGINE', 'UA_HARDWARETYPE', 'CDNNAME', 'DEVICEORIENTATION']\n"
     ]
    }
   ],
   "source": [
    "toAdd = ['UA_OS', 'SDK', 'UA_MOBILEDEVICE', 'UA_BROWSERRENDERINGENGINE', 'UA_HARDWARETYPE', 'CDNNAME', 'DEVICEORIENTATION']\n",
    "learnFeatures = learnFeatures + toAdd\n",
    "print(learnFeatures)"
   ]
  },
  {
   "cell_type": "markdown",
   "metadata": {},
   "source": [
    "#### Lets analyze other features with higher number of unique values"
   ]
  },
  {
   "cell_type": "code",
   "execution_count": 16,
   "metadata": {
    "collapsed": false
   },
   "outputs": [
    {
     "name": "stdout",
     "output_type": "stream",
     "text": [
      "Extracting columns with less than 100 and more than 20 features...\n",
      "UA_BROWSER 38\n"
     ]
    }
   ],
   "source": [
    "candidates = getPotentionalColumns(df, potentionalFeatures, 100, 20)"
   ]
  },
  {
   "cell_type": "code",
   "execution_count": 17,
   "metadata": {
    "collapsed": false
   },
   "outputs": [
    {
     "name": "stdout",
     "output_type": "stream",
     "text": [
      "                          ADLOADINGTIME\n",
      "UA_BROWSER                             \n",
      "AOL Browser                    4.647949\n",
      "Amazon Silk                   10.433807\n",
      "Android Browser                9.883669\n",
      "BlackBerry Browser             9.269818\n",
      "Chrome                         6.729692\n",
      "Chrome Mobile                  7.764691\n",
      "Chromium                      10.159553\n",
      "Comodo Dragon                  6.516273\n",
      "Dolfin                         4.365000\n",
      "Edge                           5.880922\n",
      "Firefox                        7.712355\n",
      "Iceweasel                      4.770529\n",
      "Internet Explorer              6.067394\n",
      "Internet Explorer Mobile       9.036800\n",
      "Iron                           7.115385\n",
      "Kindle Browser                 1.917000\n",
      "MIUI Browser                  21.399182\n",
      "Maxthon                        5.575286\n",
      "NetFront                      10.610000\n",
      "Nintendo Browser               9.949857\n",
      "Nokia Browser                  9.198333\n",
      "Nokia S40 Browser              6.016500\n",
      "Nokia S60 Browser              9.879833\n",
      "Opera                         10.761180\n",
      "Opera Mini                     1.632719\n",
      "Opera Mobile                  11.015511\n",
      "Other                          6.130122\n",
      "Outlook                        1.494000\n",
      "Pale Moon                      7.907333\n",
      "Safari                        14.873693\n",
      "Samsung Browser                6.987939\n",
      "SeaMonkey                      9.451292\n",
      "Thunderbird                    5.857000\n",
      "UC Browser                    20.801760\n",
      "UP.Browser                     1.697667\n",
      "Yandex.Browser                 7.327818\n",
      "null                           3.288560\n",
      "webOS Browser                 65.821000\n"
     ]
    },
    {
     "data": {
      "image/png": "[encoded data removed]",
      "text/plain": [
       "<matplotlib.figure.Figure at 0x13e183240>"
      ]
     },
     "metadata": {},
     "output_type": "display_data"
    }
   ],
   "source": [
    "present('UA_BROWSER')\n",
    "learnFeatures.append('UA_BROWSER')"
   ]
  },
  {
   "cell_type": "markdown",
   "metadata": {},
   "source": [
    "What we see here is that that UA_BROWSER for some values gives pretty accurate predictions with low variance. I checked if the outliers could be because of low numbers of row, but Safari for example give pretty high ADLOADINGTIME and is present in more than 50% of rows."
   ]
  },
  {
   "cell_type": "markdown",
   "metadata": {},
   "source": [
    "#### Get last batch of candidates."
   ]
  },
  {
   "cell_type": "code",
   "execution_count": 32,
   "metadata": {
    "collapsed": false
   },
   "outputs": [
    {
     "name": "stdout",
     "output_type": "stream",
     "text": [
      "Extracting columns with less than 400 and more than 100 features...\n",
      "GEOIP_AREACODE 284\n",
      "GEOIP_TIMEZONE 274\n",
      "GEOIP_METROCODE 211\n",
      "PLATFORMVERSION 147\n",
      "GEOIP_DMACODE 211\n",
      "UA_OSVERSION 212\n",
      "GEOIP_COUNTRY 201\n",
      "UA_PLATFORMVERSION 145\n"
     ]
    }
   ],
   "source": [
    "candidates = getPotentionalColumns(df, potentionalFeatures, 400, 100)"
   ]
  },
  {
   "cell_type": "markdown",
   "metadata": {},
   "source": [
    "At this point, my boxplot fails. These features are too diverse to plot. However I am fairly confident that location features have correlation with ADLOADINGTIME. After all, internet connection is very depandant on our location and how close we are to transmitter. However, there are 5 features for location above. I will use only 'GEOIP_COUNTRY', 'GEOIP_TIMEZONE' and 'GEOIP_AREACODE' at this point. Country and Timezone are global, but Areacode is USA specific. DMACODE and AREACODE are also USA specific and probably highly dependable with AREACODE. This leaves us with UA_OSVERSION and PLATFORMVERSION. "
   ]
  },
  {
   "cell_type": "code",
   "execution_count": 66,
   "metadata": {
    "collapsed": false
   },
   "outputs": [],
   "source": [
    "locationFeatures = ['GEOIP_AREACODE', 'GEOIP_COUNTRY', 'GEOIP_TIMEZONE',\n",
    "                     'GEOIP_REGION']\n",
    "learnFeatures = learnFeatures + locationFeatures\n",
    "discardedFeatures.append('GEOIP_LAT')\n",
    "discardedFeatures.append('GEOIP_LNG')"
   ]
  },
  {
   "cell_type": "code",
   "execution_count": 48,
   "metadata": {
    "collapsed": false
   },
   "outputs": [
    {
     "name": "stdout",
     "output_type": "stream",
     "text": [
      "              ADLOADINGTIME\n",
      "UA_OSVERSION               \n",
      "2.3.2                14.272\n",
      "2.3.3               267.236\n",
      "2.3.4               551.697\n",
      "2.3.5               340.404\n",
      "2.3.6               846.163\n",
      "2.3.7               224.659\n",
      "2.4                   2.639\n",
      "21                  316.875\n",
      "22                    5.775\n",
      "23                   10.764               ADLOADINGTIME\n",
      "UA_OSVERSION               \n",
      "2.3.2             10.295500\n",
      "2.3.3             14.366554\n",
      "2.3.4              8.032583\n",
      "2.3.5              9.733428\n",
      "2.3.6             10.224002\n",
      "2.3.7             15.868762\n",
      "2.4                2.639000\n",
      "21                38.720778\n",
      "22                 2.631267\n",
      "23                 4.620250\n"
     ]
    }
   ],
   "source": [
    "df1 = pickColumnsDataFrame(df, ['ADLOADINGTIME', 'UA_OSVERSION'])\n",
    "x = df1.groupby('UA_OSVERSION')\n",
    "print(x.max()[70:80], x.mean()[70:80])"
   ]
  },
  {
   "cell_type": "code",
   "execution_count": 49,
   "metadata": {
    "collapsed": false
   },
   "outputs": [
    {
     "data": {
      "text/html": [
       "<div>\n",
       "<table border=\"1\" class=\"dataframe\">\n",
       "  <thead>\n",
       "    <tr style=\"text-align: right;\">\n",
       "      <th></th>\n",
       "      <th>ADLOADINGTIME</th>\n",
       "      <th>PLATFORMVERSION</th>\n",
       "      <th>UA_OSVERSION</th>\n",
       "      <th>UA_PLATFORMVERSION</th>\n",
       "    </tr>\n",
       "  </thead>\n",
       "  <tbody>\n",
       "    <tr>\n",
       "      <th>0</th>\n",
       "      <td>21.730</td>\n",
       "      <td>4.4.2</td>\n",
       "      <td>4.4.2</td>\n",
       "      <td>4.4.2</td>\n",
       "    </tr>\n",
       "    <tr>\n",
       "      <th>1</th>\n",
       "      <td>2.753</td>\n",
       "      <td>4.3</td>\n",
       "      <td>4.3</td>\n",
       "      <td>4.3</td>\n",
       "    </tr>\n",
       "    <tr>\n",
       "      <th>2</th>\n",
       "      <td>12.962</td>\n",
       "      <td>4.1.2</td>\n",
       "      <td>4.1.2</td>\n",
       "      <td>4.1.2</td>\n",
       "    </tr>\n",
       "    <tr>\n",
       "      <th>3</th>\n",
       "      <td>7.121</td>\n",
       "      <td>4.3</td>\n",
       "      <td>4.3</td>\n",
       "      <td>4.3</td>\n",
       "    </tr>\n",
       "    <tr>\n",
       "      <th>4</th>\n",
       "      <td>4.301</td>\n",
       "      <td>4.4.2</td>\n",
       "      <td>4.4.2</td>\n",
       "      <td>4.4.2</td>\n",
       "    </tr>\n",
       "    <tr>\n",
       "      <th>5</th>\n",
       "      <td>11.175</td>\n",
       "      <td>4.4.2</td>\n",
       "      <td>4.4.2</td>\n",
       "      <td>4.4.2</td>\n",
       "    </tr>\n",
       "    <tr>\n",
       "      <th>6</th>\n",
       "      <td>9.833</td>\n",
       "      <td>4.1.2</td>\n",
       "      <td>4.1.2</td>\n",
       "      <td>4.1.2</td>\n",
       "    </tr>\n",
       "    <tr>\n",
       "      <th>7</th>\n",
       "      <td>2.614</td>\n",
       "      <td>4.4.2</td>\n",
       "      <td>4.4.2</td>\n",
       "      <td>4.4.2</td>\n",
       "    </tr>\n",
       "    <tr>\n",
       "      <th>8</th>\n",
       "      <td>2.610</td>\n",
       "      <td>4.4.2</td>\n",
       "      <td>4.4.2</td>\n",
       "      <td>4.4.2</td>\n",
       "    </tr>\n",
       "    <tr>\n",
       "      <th>9</th>\n",
       "      <td>58.080</td>\n",
       "      <td>5.1.1</td>\n",
       "      <td>5.1.1</td>\n",
       "      <td>5.1.1</td>\n",
       "    </tr>\n",
       "  </tbody>\n",
       "</table>\n",
       "</div>"
      ],
      "text/plain": [
       "   ADLOADINGTIME PLATFORMVERSION UA_OSVERSION UA_PLATFORMVERSION\n",
       "0         21.730           4.4.2        4.4.2              4.4.2\n",
       "1          2.753             4.3          4.3                4.3\n",
       "2         12.962           4.1.2        4.1.2              4.1.2\n",
       "3          7.121             4.3          4.3                4.3\n",
       "4          4.301           4.4.2        4.4.2              4.4.2\n",
       "5         11.175           4.4.2        4.4.2              4.4.2\n",
       "6          9.833           4.1.2        4.1.2              4.1.2\n",
       "7          2.614           4.4.2        4.4.2              4.4.2\n",
       "8          2.610           4.4.2        4.4.2              4.4.2\n",
       "9         58.080           5.1.1        5.1.1              5.1.1"
      ]
     },
     "execution_count": 49,
     "metadata": {},
     "output_type": "execute_result"
    }
   ],
   "source": [
    "df1 = pickColumnsDataFrame(df, ['ADLOADINGTIME', 'PLATFORMVERSION', 'UA_OSVERSION', 'UA_PLATFORMVERSION'])\n",
    "df1[:10]"
   ]
  },
  {
   "cell_type": "markdown",
   "metadata": {},
   "source": [
    "We can see that PLATFORMVERSION, UA_OSVERSION, UA_PLATFORMVERSION are columns with same values, so I will drop two of them, keeping only PLATFORMVERSION."
   ]
  },
  {
   "cell_type": "code",
   "execution_count": 53,
   "metadata": {
    "collapsed": false
   },
   "outputs": [],
   "source": [
    "learnFeatures.append('PLATFORMVERSION')\n",
    "discardedFeatures.append('UA_PLATFORMVERSION')\n",
    "discardedFeatures.append('UA_OSVERSION')"
   ]
  },
  {
   "cell_type": "markdown",
   "metadata": {},
   "source": [
    "#### Remaining features"
   ]
  },
  {
   "cell_type": "code",
   "execution_count": 54,
   "metadata": {
    "collapsed": false
   },
   "outputs": [
    {
     "name": "stdout",
     "output_type": "stream",
     "text": [
      "{'GEOIP_REGION', 'GEOIP_AREACODE', 'UA_MODEL', 'GEOIP_TIMEZONE', 'UA_BROWSERVERSION', 'TIMESTAMP', 'GEOIP_METROCODE', 'GEOIP_DMACODE', 'UA_OSVERSION', 'ERRORSJSON', 'UA_VENDOR', 'UA_DEVICETYPE', 'GEOIP_COUNTRY', 'GEOIP_CITY', 'INTENDEDDEVICETYPE', 'TOPMOSTREACHABLEWINDOWWIDTH', 'HOSTWINDOWWIDTH', 'GEOIP_LAT', 'UA_PLATFORMVERSION', 'FILESJSON', 'ADLOADINGTIME', 'GEOIP_LNG', 'UA_PLATFORM', 'HOSTWINDOWHEIGHT', 'TOPMOSTREACHABLEWINDOWHEIGHT'}\n"
     ]
    }
   ],
   "source": [
    "print(set(potentionalFeatures) - set(learnFeatures))"
   ]
  },
  {
   "cell_type": "markdown",
   "metadata": {},
   "source": [
    "#### Analyze FILEJSON and ERRORJSON"
   ]
  },
  {
   "cell_type": "code",
   "execution_count": 55,
   "metadata": {
    "collapsed": false
   },
   "outputs": [
    {
     "name": "stdout",
     "output_type": "stream",
     "text": [
      "            ADLOADINGTIME\n",
      "ERRORSJSON               \n",
      "0               14.191874\n",
      "1                6.434997\n",
      "2                7.806471\n",
      "3                5.318995\n"
     ]
    },
    {
     "data": {
      "image/png": "[encoded data removed]",
      "text/plain": [
       "<matplotlib.figure.Figure at 0x12ea12cc0>"
      ]
     },
     "metadata": {},
     "output_type": "display_data"
    }
   ],
   "source": [
    "import json  \n",
    "\n",
    "df1 = pickColumnsDataFrame(df, ['ADLOADINGTIME', 'ERRORSJSON'])\n",
    "df1['ERRORSJSON'] = df['ERRORSJSON'].apply(lambda x: len(json.loads(x)))\n",
    "\n",
    "summarize(df1)"
   ]
  },
  {
   "cell_type": "code",
   "execution_count": 56,
   "metadata": {
    "collapsed": false
   },
   "outputs": [
    {
     "name": "stdout",
     "output_type": "stream",
     "text": [
      "11.5463414291\n",
      "5.67489832498\n",
      "               ADLOADINGTIME  FILESJSON\n",
      "ADLOADINGTIME            1.0  -0.000041\n"
     ]
    }
   ],
   "source": [
    "df1 = pickColumnsDataFrame(df, ['ADLOADINGTIME', 'FILESJSON'])\n",
    "\n",
    "def getFilesSize(x):\n",
    "    d = json.loads(x)\n",
    "    acc = 0\n",
    "    for file in d:\n",
    "        acc += int(file['size'])\n",
    "    return acc\n",
    "\n",
    "df1['FILESJSON'] = df1['FILESJSON'].apply(lambda x: getFilesSize(x))\n",
    "\n",
    "print(df1[df1['FILESJSON'] < 1000000].mean()[0])\n",
    "print(df1[df1['FILESJSON'] > 1000000].mean()[0])\n",
    "print(df1.corr().head(1))\n",
    "discardedFeatures.append('ERRORSJSON')\n",
    "discardedFeatures.append('FILESJSON')"
   ]
  },
  {
   "cell_type": "markdown",
   "metadata": {},
   "source": [
    "I decided to map both FILESJSON and ERRORJSON in numeric feature. ERRORJSON mapped to length doesn't give any unique information as seen on graph above. Higher mean value at 0 is result of some outliers. I would expect that FILESJSON mapped to sum of file sizes would bring some good predictions. However correlation between two continious variables is very small so I decided to discard both FILESJSON and ERRORSJSON."
   ]
  },
  {
   "cell_type": "markdown",
   "metadata": {},
   "source": [
    "#### Transform timestamp into other features\n"
   ]
  },
  {
   "cell_type": "code",
   "execution_count": 57,
   "metadata": {
    "collapsed": true
   },
   "outputs": [],
   "source": [
    "from datetime import datetime\n",
    "\n",
    "def timestampToList(timestamp):\n",
    "    return str(datetime.fromtimestamp(\n",
    "        int(timestamp)\n",
    "    ).strftime('%m %w %H')).split(' ')\n",
    "\n",
    "\n",
    "## returns dataframe with features ['MONTH', 'DAY_OF_WEEK', 'HOUR_OF_DAY']\n",
    "def extractTimestamp(df):\n",
    "    df1 = pickColumnsDataFrame(df, ['ADLOADINGTIME', 'TIMESTAMP'])\n",
    "    timestamps = df1['TIMESTAMP']\n",
    "    accMonth = []\n",
    "    accDay = []\n",
    "    accHour = []\n",
    "    for timestamp in timestamps:\n",
    "        parsed = timestampToList(timestamp)\n",
    "        accMonth.append(int(parsed[0]))\n",
    "        accDay.append(int(parsed[1]))\n",
    "        hour_of_day = int(parsed[2])\n",
    "        accHour.append(int(hour_of_day / 4))\n",
    "\n",
    "\n",
    "\n",
    "    df1 = df1.drop('TIMESTAMP', 1)\n",
    "    df1['MONTH'] = accMonth\n",
    "    df1['DAY_OF_WEEK'] = accDay\n",
    "    df1['HOUR_OF_DAY'] = accHour\n",
    "    return df1\n",
    "\n",
    "df1 = extractTimestamp(df)"
   ]
  },
  {
   "cell_type": "markdown",
   "metadata": {},
   "source": [
    "#### Hour of day"
   ]
  },
  {
   "cell_type": "code",
   "execution_count": 58,
   "metadata": {
    "collapsed": false
   },
   "outputs": [
    {
     "name": "stdout",
     "output_type": "stream",
     "text": [
      "             ADLOADINGTIME\n",
      "HOUR_OF_DAY               \n",
      "0                 8.757908\n",
      "1                 8.015213\n",
      "2                 7.927288\n",
      "3                 8.158107\n",
      "4                23.391727\n",
      "5                 9.566060\n"
     ]
    },
    {
     "data": {
      "image/png": "[encoded data removed]",
      "text/plain": [
       "<matplotlib.figure.Figure at 0x1227374a8>"
      ]
     },
     "metadata": {},
     "output_type": "display_data"
    }
   ],
   "source": [
    "df2 = pickColumnsDataFrame(df1, ['ADLOADINGTIME', 'HOUR_OF_DAY'])\n",
    "summarize(df2)"
   ]
  },
  {
   "cell_type": "code",
   "execution_count": 28,
   "metadata": {
    "collapsed": false
   },
   "outputs": [
    {
     "data": {
      "text/html": [
       "<div>\n",
       "<table border=\"1\" class=\"dataframe\">\n",
       "  <thead>\n",
       "    <tr style=\"text-align: right;\">\n",
       "      <th></th>\n",
       "      <th>ADLOADINGTIME</th>\n",
       "      <th>HOUR_OF_DAY</th>\n",
       "    </tr>\n",
       "  </thead>\n",
       "  <tbody>\n",
       "    <tr>\n",
       "      <th>1254543</th>\n",
       "      <td>7430398.56</td>\n",
       "      <td>4</td>\n",
       "    </tr>\n",
       "  </tbody>\n",
       "</table>\n",
       "</div>"
      ],
      "text/plain": [
       "         ADLOADINGTIME  HOUR_OF_DAY\n",
       "1254543     7430398.56            4"
      ]
     },
     "execution_count": 28,
     "metadata": {},
     "output_type": "execute_result"
    }
   ],
   "source": [
    "df2[df2['ADLOADINGTIME'] > 100000]"
   ]
  },
  {
   "cell_type": "markdown",
   "metadata": {},
   "source": [
    "There is one outlier which makes mean() a bit shaky, but in general hour_of_day doesnt tell us anything valuable. Story is similar with DAY_OF_WEEK, meaning we can't extract any good predictions from these two."
   ]
  },
  {
   "cell_type": "markdown",
   "metadata": {},
   "source": [
    "#### Month"
   ]
  },
  {
   "cell_type": "code",
   "execution_count": 59,
   "metadata": {
    "collapsed": false
   },
   "outputs": [
    {
     "name": "stdout",
     "output_type": "stream",
     "text": [
      "       ADLOADINGTIME\n",
      "MONTH               \n",
      "1           4.855506\n",
      "2           4.344907\n",
      "3           7.679248\n",
      "4           8.418845\n",
      "5           8.297728\n",
      "6      116104.381516\n",
      "7        4549.424368\n",
      "8           3.482250\n",
      "9         858.310333\n",
      "10         20.161944\n",
      "11          5.057687\n",
      "12          3.380679\n"
     ]
    },
    {
     "data": {
      "image/png": "[encoded data removed]",
      "text/plain": [
       "<matplotlib.figure.Figure at 0x1258e8ef0>"
      ]
     },
     "metadata": {},
     "output_type": "display_data"
    }
   ],
   "source": [
    "df2 = pickColumnsDataFrame(df1, ['ADLOADINGTIME', 'MONTH'])\n",
    "summarize(df2)"
   ]
  },
  {
   "cell_type": "code",
   "execution_count": 61,
   "metadata": {
    "collapsed": false
   },
   "outputs": [
    {
     "name": "stdout",
     "output_type": "stream",
     "text": [
      "(2448822, 2)\n"
     ]
    }
   ],
   "source": [
    "print(df2[df2['MONTH'] == 4].shape)\n",
    "discardedFeatures.append('TIMESTAMP')"
   ]
  },
  {
   "cell_type": "markdown",
   "metadata": {},
   "source": [
    "Months looked more promising on graph, but after finding out almost all rows from dataset are from april, I came to conclusion that we don't have enough data about other monts to make any good predictions."
   ]
  },
  {
   "cell_type": "code",
   "execution_count": 67,
   "metadata": {
    "collapsed": false
   },
   "outputs": [
    {
     "name": "stdout",
     "output_type": "stream",
     "text": [
      "{'GEOIP_METROCODE', 'GEOIP_CITY', 'ADLOADINGTIME', 'TOPMOSTREACHABLEWINDOWWIDTH', 'GEOIP_DMACODE', 'TOPMOSTREACHABLEWINDOWHEIGHT'}\n"
     ]
    }
   ],
   "source": [
    "discardedFeatures.append('UA_VENDOR')\n",
    "discardedFeatures.append('UA_MODEL')\n",
    "discardedFeatures.append('UA_BROWSERVERSION')\n",
    "print(set(potentionalFeatures) - set(learnFeatures) - set(discardedFeatures))\n"
   ]
  },
  {
   "cell_type": "markdown",
   "metadata": {
    "collapsed": false
   },
   "source": [
    "I did some analysis on 'UA_BROWSERVERSION', 'UA_VENDOR'  and 'UA_MODEL' and found they dont have any relevant correlation with 'ADLOADINGTIME. What we are left at this point is screen size."
   ]
  },
  {
   "cell_type": "markdown",
   "metadata": {
    "collapsed": true
   },
   "source": [
    "#### Analyze screen size"
   ]
  },
  {
   "cell_type": "code",
   "execution_count": 6,
   "metadata": {
    "collapsed": false
   },
   "outputs": [],
   "source": [
    "def columnToNumeric(df, column):\n",
    "    df1 = pickColumnsDataFrame(df, [column])\n",
    "    df1 = df1.loc[df[column] != 'null']\n",
    "    df1[column] = pd.to_numeric(df1[column])\n",
    "    df1 = df1.abs()\n",
    "    x = df1.loc[df1[column] < 20000].mean()[0]\n",
    "    \n",
    "    df1 = pickColumnsDataFrame(df, [column])\n",
    "    df1[df1[column] == 'null'] = str(x)\n",
    "    df1[column] = pd.to_numeric(df1[column])\n",
    "    return df1\n",
    "\n",
    "\n",
    "df1 = pickColumnsDataFrame(df, ['HOSTWINDOWHEIGHT', 'HOSTWINDOWWIDTH'])\n",
    "df1['HOSTWINDOWHEIGHT'] = columnToNumeric(df1, 'HOSTWINDOWHEIGHT')\n",
    "df1['HOSTWINDOWWIDTH'] = columnToNumeric(df1, 'HOSTWINDOWWIDTH')"
   ]
  },
  {
   "cell_type": "markdown",
   "metadata": {},
   "source": [
    "#### Lets try adding a new feature - surface"
   ]
  },
  {
   "cell_type": "code",
   "execution_count": 64,
   "metadata": {
    "collapsed": false
   },
   "outputs": [
    {
     "data": {
      "text/html": [
       "<div>\n",
       "<table border=\"1\" class=\"dataframe\">\n",
       "  <thead>\n",
       "    <tr style=\"text-align: right;\">\n",
       "      <th></th>\n",
       "      <th>ADLOADINGTIME</th>\n",
       "      <th>HOSTWINDOWHEIGHT</th>\n",
       "      <th>HOSTWINDOWWIDTH</th>\n",
       "      <th>SURFACE</th>\n",
       "    </tr>\n",
       "  </thead>\n",
       "  <tbody>\n",
       "    <tr>\n",
       "      <th>ADLOADINGTIME</th>\n",
       "      <td>1.0</td>\n",
       "      <td>-0.000006</td>\n",
       "      <td>0.001162</td>\n",
       "      <td>-0.000004</td>\n",
       "    </tr>\n",
       "  </tbody>\n",
       "</table>\n",
       "</div>"
      ],
      "text/plain": [
       "               ADLOADINGTIME  HOSTWINDOWHEIGHT  HOSTWINDOWWIDTH   SURFACE\n",
       "ADLOADINGTIME            1.0         -0.000006         0.001162 -0.000004"
      ]
     },
     "execution_count": 64,
     "metadata": {},
     "output_type": "execute_result"
    }
   ],
   "source": [
    "df1['SURFACE'] = df1['HOSTWINDOWHEIGHT'] * df1['HOSTWINDOWWIDTH']\n",
    "learnFeatures.append('HOSTWINDOWWIDTH')\n",
    "discardedFeatures.append('HOSTWINDOWHEIGHT')\n",
    "df2 = pickColumnsDataFrame(df, ['ADLOADINGTIME'])\n",
    "result = pd.concat([df2, df1],axis = 1)\n",
    "result.corr().head(1)"
   ]
  },
  {
   "cell_type": "markdown",
   "metadata": {},
   "source": [
    "We can see that height and surface are uncorelated while width have much higher correlation. Therefore, i will discard height and surface and add width as a final feature to my learningFeatures."
   ]
  },
  {
   "cell_type": "markdown",
   "metadata": {},
   "source": [
    "#### Feature Engineering done"
   ]
  },
  {
   "cell_type": "markdown",
   "metadata": {},
   "source": [
    "At this point I have reduced number of feature to less than half. I had problems with this, since I couldn't find any good method to check correlation with categorial features. One-Way ANOVA in python doesn't take categorical features and didn't work properly for me. I probably should have used R for analysing the data but I kinda had no time since I never used R before. Anyway, I think that boxplots are fairly good indicator of correlation and are also way more interesting than just some number output."
   ]
  },
  {
   "cell_type": "code",
   "execution_count": 19,
   "metadata": {
    "collapsed": true
   },
   "outputs": [],
   "source": [
    "learnFeatures = ['PLATFORM', 'NETWORKTYPE', 'ACTUALDEVICETYPE', 'CREATIVETYPE', 'UA_OS', 'SDK',\n",
    "               'UA_MOBILEDEVICE', 'UA_BROWSERRENDERINGENGINE', 'UA_HARDWARETYPE', 'CDNNAME',\n",
    "               'DEVICEORIENTATION', 'UA_BROWSER', 'GEOIP_COUNTRY',\n",
    "               'GEOIP_TIMEZONE',\n",
    "               'GEOIP_REGION', 'PLATFORMVERSION', 'HOSTWINDOWWIDTH', 'ADLOADINGTIME']"
   ]
  },
  {
   "cell_type": "markdown",
   "metadata": {},
   "source": [
    "#### Machine learning"
   ]
  },
  {
   "cell_type": "markdown",
   "metadata": {},
   "source": [
    "Since most of the features are categorical and almost all scikit algorithms take numerical features only, I will use One-Hot combined with Label Encoding to transform dataset to numeric."
   ]
  },
  {
   "cell_type": "code",
   "execution_count": 4,
   "metadata": {
    "collapsed": false
   },
   "outputs": [],
   "source": [
    "from sklearn import preprocessing\n",
    "def labelEncodeDataFrame(df):\n",
    "    df1 = df.copy()\n",
    "    le = preprocessing.LabelEncoder()\n",
    "    for feature in df1:\n",
    "        if(df1[feature].dtype == \"object\"):\n",
    "            le.fit(df1[feature])\n",
    "            df1[feature] = list(le.transform(df1[feature]))\n",
    "    return df1\n"
   ]
  },
  {
   "cell_type": "markdown",
   "metadata": {},
   "source": [
    "#### One-hot encode dataframe into sparse matrix"
   ]
  },
  {
   "cell_type": "code",
   "execution_count": 7,
   "metadata": {
    "collapsed": false
   },
   "outputs": [],
   "source": [
    "from sklearn.preprocessing import OneHotEncoder\n",
    "\n",
    "def labelEncodeFeatures(learnFeatures):\n",
    "    df = getFullDataFrame(learnFeatures)\n",
    "    df['HOSTWINDOWWIDTH'] = columnToNumeric(df, 'HOSTWINDOWWIDTH')\n",
    "    df = labelEncodeDataFrame(df)\n",
    "    return df\n",
    "    \n",
    "def oneHot(df):\n",
    "    df = pickColumnsDataFrame(df, learnFeatures)\n",
    "    \n",
    "    ## Mask numerical features, by default One-Hot treats all as categorical features\n",
    "    mask = [True] * len(df.columns)\n",
    "    cols = list(df.columns.values)\n",
    "    mask[cols.index('HOSTWINDOWWIDTH')] = False\n",
    "    mask[-1] = False ## Last column is ADLOADINGTIME\n",
    "    enc = OneHotEncoder(categorical_features=mask)\n",
    "    enc.fit(df)\n",
    "    return enc.transform(df)\n",
    "    \n",
    "df = labelEncodeFeatures(learnFeatures)\n",
    "df = oneHot(df)"
   ]
  },
  {
   "cell_type": "markdown",
   "metadata": {},
   "source": [
    "#### Split data into train_test"
   ]
  },
  {
   "cell_type": "code",
   "execution_count": 8,
   "metadata": {
    "collapsed": false
   },
   "outputs": [],
   "source": [
    "from sklearn.cross_validation import train_test_split\n",
    "\n",
    "train, test = train_test_split(df, test_size = 0.1)\n",
    "\n",
    "\n",
    "train_x, target = train[:, :-1], train[:,-1].toarray()\n",
    "test_x, test_y = test[:, :-1], test[:,-1].toarray()\n"
   ]
  },
  {
   "cell_type": "markdown",
   "metadata": {},
   "source": [
    "#### Linear models"
   ]
  },
  {
   "cell_type": "code",
   "execution_count": 9,
   "metadata": {
    "collapsed": true
   },
   "outputs": [],
   "source": [
    "from sklearn import linear_model\n",
    "from sklearn.metrics import mean_squared_error\n",
    "\n",
    "def rmse(x, y):\n",
    "    return mean_squared_error(x, y) ** 0.5\n"
   ]
  },
  {
   "cell_type": "markdown",
   "metadata": {},
   "source": [
    "#### Lets train our models [Linear Regression, Ridge, Elastic Net]"
   ]
  },
  {
   "cell_type": "code",
   "execution_count": 26,
   "metadata": {
    "collapsed": true
   },
   "outputs": [],
   "source": [
    "regr = linear_model.LinearRegression(n_jobs=4)\n",
    "modelLinear = regr.fit(train_x, target)\n",
    "\n",
    "clf = linear_model.Ridge (alpha = .5)\n",
    "modelRidge = clf.fit(train_x, target)\n",
    "\n",
    "enet = linear_model.ElasticNet(alpha=0.1, l1_ratio=0.7)\n",
    "modelElastic = enet.fit(train_x, target)"
   ]
  },
  {
   "cell_type": "markdown",
   "metadata": {},
   "source": [
    "#### Predictions"
   ]
  },
  {
   "cell_type": "markdown",
   "metadata": {},
   "source": [
    "Since I have linear model predictions can be negative. However, ADLOADINGTIME can't be negative, so I replace negative predictions with some low positive number (1), which improves RMSE a bit."
   ]
  },
  {
   "cell_type": "code",
   "execution_count": 52,
   "metadata": {
    "collapsed": false
   },
   "outputs": [
    {
     "name": "stdout",
     "output_type": "stream",
     "text": [
      "Linear Regression RMSE:\n",
      "53.2832436516\n",
      "-------------------------\n",
      "Ridge RMSE:\n",
      "51.4529575604\n",
      "-------------------------\n",
      "Elastic Net RMSE:\n",
      "52.1628665149\n"
     ]
    }
   ],
   "source": [
    "print(\"Linear Regression RMSE:\")\n",
    "predictions = modelLinear.predict(test_x)\n",
    "predictions[predictions < 0] = 1\n",
    "print(rmse(test_y, predictions))\n",
    "print(\"-------------------------\")\n",
    "print(\"Ridge RMSE:\")\n",
    "predictions = modelRidge.predict(test_x)\n",
    "predictions[predictions < 0] = 1\n",
    "print(rmse(test_y, predictions))\n",
    "print(\"-------------------------\")\n",
    "print(\"Elastic Net RMSE:\")\n",
    "predictions = modelElastic.predict(test_x)\n",
    "predictions[predictions < 0] = 1\n",
    "print(rmse(test_y, predictions))"
   ]
  },
  {
   "cell_type": "markdown",
   "metadata": {
    "collapsed": true
   },
   "source": [
    "#### Sanity check"
   ]
  },
  {
   "cell_type": "code",
   "execution_count": 54,
   "metadata": {
    "collapsed": false
   },
   "outputs": [
    {
     "name": "stdout",
     "output_type": "stream",
     "text": [
      "Linear Regression RMSE on train data:\n",
      "5005.213684\n"
     ]
    }
   ],
   "source": [
    "predictions = modelLinear.predict(train_x)\n",
    "predictions[predictions < 0] = 1\n",
    "print(\"Linear Regression RMSE on train data:\")\n",
    "print(rmse(target, predictions))"
   ]
  },
  {
   "cell_type": "markdown",
   "metadata": {},
   "source": [
    "I'm really confused about this right now. Predictions on training set are 100 times higher than predictions on test set. I think this shouldn't be possible and predictions on set you train on should allways be better, so I'm not sure if I have bug in code or there are so many outliers. In either case, I ran out of time to tackle this problem."
   ]
  }
 ],
 "metadata": {
  "kernelspec": {
   "display_name": "Python 3",
   "language": "python",
   "name": "python3"
  },
  "language_info": {
   "codemirror_mode": {
    "name": "ipython",
    "version": 3
   },
   "file_extension": ".py",
   "mimetype": "text/x-python",
   "name": "python",
   "nbconvert_exporter": "python",
   "pygments_lexer": "ipython3",
   "version": "3.5.1"
  }
 },
 "nbformat": 4,
 "nbformat_minor": 0
}
